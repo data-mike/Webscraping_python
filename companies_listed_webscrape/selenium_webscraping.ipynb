{
 "cells": [
  {
   "cell_type": "code",
   "execution_count": 1,
   "metadata": {},
   "outputs": [],
   "source": [
    "import time\n",
    "from selenium import webdriver\n",
    "import pandas as pd\n",
    "from selenium.webdriver.chrome.service import Service # not used in this project because it doesn't work for some reason\n",
    "from selenium.webdriver.common.by import By\n",
    "from selenium.webdriver.chrome.options import Options\n",
    "from selenium.webdriver.support.ui import WebDriverWait\n",
    "from selenium.webdriver.support import expected_conditions as EC\n",
    "from selenium.common.exceptions import TimeoutException, NoSuchElementException\n",
    "import os\n",
    "import subprocess"
   ]
  },
  {
   "cell_type": "code",
   "execution_count": 2,
   "metadata": {},
   "outputs": [],
   "source": [
    "address = [\"https://dubaioutsourcecity.ae/the-community/community-directory\", \n",
    "\"https://dic.ae/the-community/community-directory\"]"
   ]
  },
  {
   "cell_type": "code",
   "execution_count": 3,
   "metadata": {},
   "outputs": [],
   "source": [
    "# note: you have to install geckodriver using \"conda install -c conda-forge geckodriver\" because selenium firefox \n",
    "# relies on\n",
    "# geckodriver to work\n",
    "\n",
    "## Setup chrome options\n",
    "chrome_options = Options()\n",
    "chrome_options.add_argument(\"--headless\") # Ensure GUI is off\n",
    "chrome_options.add_argument(\"--no-sandbox\")\n"
   ]
  },
  {
   "cell_type": "code",
   "execution_count": 4,
   "metadata": {},
   "outputs": [
    {
     "name": "stderr",
     "output_type": "stream",
     "text": [
      "your 131072x1 screen size is bogus. expect trouble\n",
      "kill: (30405): No such process\n"
     ]
    },
    {
     "name": "stdout",
     "output_type": "stream",
     "text": [
      "CompletedProcess(args=\"ps aux | awk '/chrome/ { print $2 } ' | xargs kill -9\", returncode=-9)\n"
     ]
    }
   ],
   "source": [
    "# Set path to chromedriver as per your configuration\n",
    "# webdriver_service = Service(\"/home/michael/chromedriver/stable/chromedriver\") # for unknown reason doesn't work\n",
    "\n",
    "chrome_driver_path = \"/home/michael/chromedriver/stable/chromedriver\"\n",
    "\n",
    "# kill all open chromedriver instance before opening a new one to conserve system resource\n",
    "k_ = subprocess.run(\"ps aux | awk '/chrome/ { print $2 } ' | xargs kill -9\", shell=True)\n",
    "print(k_)\n",
    "\n",
    "\n",
    "# Choose Chrome Browser\n",
    "browser = webdriver.Chrome(chrome_driver_path, options=chrome_options)\n",
    "\n",
    "# browser.implicitly_wait(20)   # this allows the webdriver instance to wait for a period of time after loading a page\n",
    "                            # before searching for an element"
   ]
  },
  {
   "cell_type": "code",
   "execution_count": 5,
   "metadata": {},
   "outputs": [],
   "source": [
    "# get web page\n",
    "# Create lists to hold the different information about the listed companies from the website directory\n",
    "\n",
    "category1 = []\n",
    "name1 = []\n",
    "description1 = []\n",
    "phone1 = []\n",
    "website1 = []\n",
    "location1 = []\n",
    "\n",
    "for add_ in address:\n",
    "\n",
    "    category = []\n",
    "    name = []\n",
    "    description = []\n",
    "    phone = []\n",
    "    website = []\n",
    "    location = []\n",
    "\n",
    "    browser.get(add_)\n",
    "\n",
    "    button_presence = True\n",
    "    while button_presence:\n",
    "        try:\n",
    "            # wait for the load more button to be shown in the web page\n",
    "            button= WebDriverWait(browser,30).until(EC.visibility_of_element_located((By.CSS_SELECTOR,\n",
    "            \"button.cta-primary[title='Load More']\")))\n",
    "\n",
    "            if button.is_displayed():   # checks if 'Load More' button is displayed\n",
    "                browser.execute_script(\n",
    "                    \"arguments[0].click();\", WebDriverWait(browser, 20).until(\n",
    "                        EC.element_to_be_clickable((By.CSS_SELECTOR, \"button.cta-primary[title='Load More']\"))))\n",
    "                \n",
    "                # browser.execute_script(\"arguments[0].click();\", *args) this uses javascript to click button\n",
    "        \n",
    "        # catch TimeoutException error when the 'Load More' button is no longer displayed on the webpage and \n",
    "        # quit the loop\n",
    "\n",
    "        except TimeoutException:\n",
    "            button_presence = False\n",
    "\n",
    "    companies_breakdown = browser.find_elements_by_css_selector(\"div.box-content\")\n",
    "\n",
    "    for i in companies_breakdown:\n",
    "        try:\n",
    "            cat_ = i.find_element_by_css_selector(\"p.item-category\").text\n",
    "            category.append(cat_)\n",
    "        except NoSuchElementException:\n",
    "            category.append(\"\")\n",
    "\n",
    "        try:\n",
    "            name_ = i.find_element_by_css_selector(\"p.item-name\").text\n",
    "            name.append(name_)\n",
    "        except NoSuchElementException:\n",
    "            name.append(\"\")\n",
    "\n",
    "        try:\n",
    "            desc_ = i.find_element_by_css_selector(\"p.item-desc\").text\n",
    "            description.append(desc_)\n",
    "        except NoSuchElementException:\n",
    "            description.append(\"\")\n",
    "\n",
    "        # check if the company's phone contact is listed\n",
    "        try:\n",
    "            mobile = i.find_element_by_css_selector(\"a.cta-primary.item-phone\").get_attribute(\"href\")\n",
    "            phone.append(mobile)\n",
    "        except NoSuchElementException:\n",
    "            phone.append(\"\")\n",
    "        \n",
    "        # check if the company's website is listed\n",
    "        try:\n",
    "            web = i.find_element_by_css_selector(\"a.cta-primary.--has-icon\").get_attribute(\"href\")\n",
    "            website.append(web)\n",
    "        except NoSuchElementException:\n",
    "            website.append(\"\")\n",
    "\n",
    "        loc_ = add_.replace(\"https://\",\"\")\n",
    "        loc_ = loc_.split(\"/\")[0]\n",
    "        location.append(loc_)\n",
    "    \n",
    "    category1.extend(category)\n",
    "    name1.extend(name)\n",
    "    description1.extend(description)\n",
    "    phone1.extend(phone)\n",
    "    website1.extend(website)\n",
    "    location1.extend(location)\n",
    "\n",
    "\n",
    "# button = browser.find_element_by_css_selector(\"button.cta-primary[title='Load More']\").click()\n",
    "\n",
    "\n",
    "\n",
    "# buttons = WebDriverWait(browser,10).until(EC.visibility_of_all_elements_located((By.CSS_SELECTOR,\n",
    "# \"button.cta-primary[title='Load More']\")))"
   ]
  },
  {
   "cell_type": "code",
   "execution_count": 8,
   "metadata": {},
   "outputs": [],
   "source": [
    "# create a pandas dataFrame from the lists\n",
    "\n",
    "companies_df = pd.DataFrame(list(zip(location1,name1,category1,description1,phone1, website1)), \n",
    "columns =['location','name','category','description','phone','website'])"
   ]
  },
  {
   "cell_type": "code",
   "execution_count": 9,
   "metadata": {},
   "outputs": [],
   "source": [
    "# export dataframe to csv files\n",
    "companies_df.to_csv('companies_list1.csv')"
   ]
  }
 ],
 "metadata": {
  "interpreter": {
   "hash": "b374a646a46746b5ef3d577aa7ab9754d62da9746329b04e3971ce9ee9b94d25"
  },
  "kernelspec": {
   "display_name": "Python 3.9.5 ('myenv': conda)",
   "language": "python",
   "name": "python3"
  },
  "language_info": {
   "codemirror_mode": {
    "name": "ipython",
    "version": 3
   },
   "file_extension": ".py",
   "mimetype": "text/x-python",
   "name": "python",
   "nbconvert_exporter": "python",
   "pygments_lexer": "ipython3",
   "version": "3.9.5"
  },
  "orig_nbformat": 4
 },
 "nbformat": 4,
 "nbformat_minor": 2
}
